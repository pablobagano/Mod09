{
 "cells": [
  {
   "cell_type": "markdown",
   "id": "1d0924b3",
   "metadata": {},
   "source": [
    "# Processamento Paralelo"
   ]
  },
  {
   "cell_type": "markdown",
   "id": "0ea063fc",
   "metadata": {},
   "source": [
    "### Importação do módulo e da função scraper"
   ]
  },
  {
   "cell_type": "code",
   "execution_count": 1,
   "id": "2a3c8923",
   "metadata": {
    "scrolled": true
   },
   "outputs": [],
   "source": [
    "from paralelo import scraper,urls"
   ]
  },
  {
   "cell_type": "markdown",
   "id": "2d4b0629",
   "metadata": {},
   "source": [
    "### Importação da função Pool da biblioteca multiprocessing"
   ]
  },
  {
   "cell_type": "code",
   "execution_count": 2,
   "id": "565be6fb",
   "metadata": {},
   "outputs": [],
   "source": [
    "from multiprocessing import Pool"
   ]
  },
  {
   "cell_type": "markdown",
   "id": "dafceebe",
   "metadata": {},
   "source": [
    "### Execução do processo paralelo e impressão dos títulos das páginas"
   ]
  },
  {
   "cell_type": "code",
   "execution_count": 3,
   "id": "6e8e97ee",
   "metadata": {},
   "outputs": [
    {
     "name": "stdout",
     "output_type": "stream",
     "text": [
      "    Philosophy |      Books to Scrape - Sandbox\n",
      "    Nonfiction |      Books to Scrape - Sandbox\n",
      "    Childrens |      Books to Scrape - Sandbox\n",
      "    Mystery |      Books to Scrape - Sandbox\n",
      "    Romance |      Books to Scrape - Sandbox\n",
      "    Classics |      Books to Scrape - Sandbox\n",
      "    Religion |      Books to Scrape - Sandbox\n",
      "    Travel |      Books to Scrape - Sandbox\n",
      "    Historical Fiction |      Books to Scrape - Sandbox\n",
      "    Womens Fiction |      Books to Scrape - Sandbox\n",
      "    Fiction |      Books to Scrape - Sandbox\n",
      "    Music |      Books to Scrape - Sandbox\n"
     ]
    }
   ],
   "source": [
    "p= Pool(12)\n",
    "p.map(scraper, urls)\n",
    "p.terminate()\n",
    "p.join()\n"
   ]
  },
  {
   "cell_type": "markdown",
   "id": "66b1e887",
   "metadata": {},
   "source": [
    "# Processamento assíncrono"
   ]
  },
  {
   "cell_type": "markdown",
   "id": "7925b713",
   "metadata": {},
   "source": [
    "### Importação das funções e dos comandos \n",
    "- Para execução da função no Notebook, a linha 55 no arquivo foi comentada. Para execução em IDE's convencionais, tirar o comentário e executar normalmente"
   ]
  },
  {
   "cell_type": "code",
   "execution_count": 4,
   "id": "80d2fb84",
   "metadata": {
    "scrolled": true
   },
   "outputs": [
    {
     "name": "stdout",
     "output_type": "stream",
     "text": [
      "\n",
      "    Philosophy | \n",
      "     Books to Scrape - Sandbox\n",
      "\n",
      "\n",
      "\n",
      "    Religion | \n",
      "     Books to Scrape - Sandbox\n",
      "\n",
      "\n",
      "\n",
      "    Travel | \n",
      "     Books to Scrape - Sandbox\n",
      "\n",
      "\n",
      "\n",
      "    Mystery | \n",
      "     Books to Scrape - Sandbox\n",
      "\n",
      "\n",
      "\n",
      "    Womens Fiction | \n",
      "     Books to Scrape - Sandbox\n",
      "\n",
      "\n",
      "\n",
      "    Romance | \n",
      "     Books to Scrape - Sandbox\n",
      "\n",
      "\n",
      "\n",
      "    Childrens | \n",
      "     Books to Scrape - Sandbox\n",
      "\n",
      "\n",
      "\n",
      "    Historical Fiction | \n",
      "     Books to Scrape - Sandbox\n",
      "\n",
      "\n",
      "\n",
      "    Music | \n",
      "     Books to Scrape - Sandbox\n",
      "\n",
      "\n",
      "\n",
      "    Nonfiction | \n",
      "     Books to Scrape - Sandbox\n",
      "\n",
      "\n",
      "\n",
      "    Classics | \n",
      "     Books to Scrape - Sandbox\n",
      "\n",
      "\n",
      "\n",
      "    Fiction | \n",
      "     Books to Scrape - Sandbox\n",
      "\n",
      "\n"
     ]
    }
   ],
   "source": [
    "from assincrono import fetch,run,loop,future"
   ]
  }
 ],
 "metadata": {
  "kernelspec": {
   "display_name": "Python 3 (ipykernel)",
   "language": "python",
   "name": "python3"
  },
  "language_info": {
   "codemirror_mode": {
    "name": "ipython",
    "version": 3
   },
   "file_extension": ".py",
   "mimetype": "text/x-python",
   "name": "python",
   "nbconvert_exporter": "python",
   "pygments_lexer": "ipython3",
   "version": "3.9.12"
  }
 },
 "nbformat": 4,
 "nbformat_minor": 5
}
